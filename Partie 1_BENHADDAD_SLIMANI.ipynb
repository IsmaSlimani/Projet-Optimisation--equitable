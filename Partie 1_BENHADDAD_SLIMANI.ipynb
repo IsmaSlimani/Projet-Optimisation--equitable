{
 "cells": [
  {
   "cell_type": "markdown",
   "id": "d323cc7a",
   "metadata": {},
   "source": [
    "## Implémentation de l'exemple 1 de la partie 1 du projet"
   ]
  },
  {
   "cell_type": "markdown",
   "id": "155f9303",
   "metadata": {},
   "source": [
    "Dans ce qui suit nous allons calculer à l'aide du solveur Gurobi, la solution optimale du programme linéarisé en variables mixtes de l'exemple 1 - Partie 1 MOGPL"
   ]
  },
  {
   "cell_type": "markdown",
   "id": "2d4b3e6e",
   "metadata": {},
   "source": [
    "A noter qu'aucune instruction spécifique n'est nécessaire quant à l'exécution du programme. Toutes les données sont préalablement déclarées et les sorties bien explicites et expliquées "
   ]
  },
  {
   "cell_type": "code",
   "execution_count": 4,
   "id": "fc48b465",
   "metadata": {},
   "outputs": [
    {
     "name": "stdout",
     "output_type": "stream",
     "text": [
      "Gurobi Optimizer version 10.0.0 build v10.0.0rc2 (mac64[rosetta2])\n",
      "\n",
      "CPU model: Apple M1\n",
      "Thread count: 8 physical cores, 8 logical processors, using up to 8 threads\n",
      "\n",
      "Optimize a model with 7 rows, 13 columns and 29 nonzeros\n",
      "Model fingerprint: 0xb3de01b2\n",
      "Variable types: 8 continuous, 5 integer (5 binary)\n",
      "Coefficient statistics:\n",
      "  Matrix range     [1e+00, 8e+00]\n",
      "  Objective range  [1e+00, 2e+00]\n",
      "  Bounds range     [1e+00, 1e+00]\n",
      "  RHS range        [3e+00, 3e+00]\n",
      "Presolve removed 3 rows and 4 columns\n",
      "Presolve time: 0.01s\n",
      "Presolved: 4 rows, 9 columns, 19 nonzeros\n",
      "Variable types: 0 continuous, 9 integer (5 binary)\n",
      "Found heuristic solution: objective 39.0000000\n",
      "Found heuristic solution: objective 47.0000000\n",
      "\n",
      "Root relaxation: objective 5.000000e+01, 5 iterations, 0.00 seconds (0.00 work units)\n",
      "\n",
      "    Nodes    |    Current Node    |     Objective Bounds      |     Work\n",
      " Expl Unexpl |  Obj  Depth IntInf | Incumbent    BestBd   Gap | It/Node Time\n",
      "\n",
      "*    0     0               0      50.0000000   50.00000  0.00%     -    0s\n",
      "\n",
      "Explored 1 nodes (5 simplex iterations) in 0.02 seconds (0.00 work units)\n",
      "Thread count was 8 (of 8 available processors)\n",
      "\n",
      "Solution count 3: 50 47 39 \n",
      "\n",
      "Optimal solution found (tolerance 1.00e-04)\n",
      "Best objective 5.000000000000e+01, best bound 5.000000000000e+01, gap 0.0000%\n",
      "La solution optimale du problème est (Les objets à prendre sont :) [ 0.  1.  1.  1. -0.]\n",
      "La valeur optimale du problème est (la satisfaction max des deux agents respectivement):  [18. 16.]\n"
     ]
    }
   ],
   "source": [
    "import gurobipy as gp\n",
    "import numpy as np\n",
    "from gurobipy import *\n",
    "\n",
    "#Commençons par déclarer nos données \n",
    "u = [[5,6,4,8,1],[3,8,6,2,5]] #L'utilité des agents 1 et 2\n",
    "W = [1,1] #W'k \n",
    "n = 2 #Le nombre d'agents \n",
    "p = 5 #Le nombre d'objets disponibles \n",
    "\n",
    "model = gp.Model('Partie 1 - Projet MOGPL')\n",
    "\n",
    "#Déclaration de nos variables de décision \n",
    "x = np.array(\n",
    "    [model.addVar(vtype = GRB.BINARY, name=\"x%d\" %(i+1)) for i in range(p)])\n",
    "\n",
    "z = np.array(\n",
    "    [model.addVar(vtype = GRB.CONTINUOUS, lb = 0, name=\"z%d\" %(i+1)) for i in range(n)])\n",
    "\n",
    "r = np.array(\n",
    "    [model.addVar(vtype = GRB.CONTINUOUS, lb = - GRB.INFINITY, name = 'r%d' %(k+1)) for k in range(n)])\n",
    "\n",
    "b = np.array([\n",
    "    [model.addVar(vtype = GRB.CONTINUOUS, lb = 0, name=\"b%d_%d\" % (i+1,k+1)) for k in range(n)] for i in range(n)\n",
    "])\n",
    "\n",
    "#Déclarations des contraintes :\n",
    "for i in range(n):\n",
    "        model.addConstr( z[i] == quicksum(u[i][j]* x[j] for j in range(p)))\n",
    "\n",
    "for k in range(n):\n",
    "        for i in range(n):    \n",
    "            model.addConstr( r[k] - b[i][k] <= z[i])\n",
    "\n",
    "model.addConstr( quicksum(x[j] for j in range(p)) == 3)\n",
    "\n",
    "# maj du modele pour integrer les nouvelles variables\n",
    "model.update()\n",
    "\n",
    "# definition de l'objectif\n",
    "fonction_obj = LinExpr();\n",
    "fonction_obj =0\n",
    "for k in range(n):\n",
    "        fonction_obj += W[k]*( (k+1)*r[k] - quicksum(b[i][k] for i in range(n)) )\n",
    "\n",
    "model.setObjective(fonction_obj,GRB.MAXIMIZE)\n",
    "\n",
    "# Resolution\n",
    "model.optimize()\n",
    "\n",
    "xfinal=np.array([x[j].x  for j in range(p)]) #Pour récupérer la valeur optimale de x\n",
    "zfinal=np.array([z[i].x for i in range(n)]) #Pour récupérer la valeur optimale de z\n",
    "    \n",
    "\n",
    "\n",
    "print('La solution optimale du problème est (Les objets à prendre sont :)',xfinal)\n",
    "print('La valeur optimale du problème est (la satisfaction max des deux agents respectivement): ', zfinal)"
   ]
  }
 ],
 "metadata": {
  "kernelspec": {
   "display_name": "Python 3 (ipykernel)",
   "language": "python",
   "name": "python3"
  },
  "language_info": {
   "codemirror_mode": {
    "name": "ipython",
    "version": 3
   },
   "file_extension": ".py",
   "mimetype": "text/x-python",
   "name": "python",
   "nbconvert_exporter": "python",
   "pygments_lexer": "ipython3",
   "version": "3.9.7"
  }
 },
 "nbformat": 4,
 "nbformat_minor": 5
}
